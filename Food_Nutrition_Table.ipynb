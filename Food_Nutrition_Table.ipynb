{
 "cells": [
  {
   "cell_type": "code",
   "execution_count": 2,
   "metadata": {},
   "outputs": [],
   "source": [
    "#pip install tabula-py"
   ]
  },
  {
   "cell_type": "code",
   "execution_count": 316,
   "metadata": {},
   "outputs": [],
   "source": [
    "import tabula\n",
    "import pandas as pd"
   ]
  },
  {
   "cell_type": "code",
   "execution_count": 317,
   "metadata": {},
   "outputs": [],
   "source": [
    "# PDF file path\n",
    "filepath = \"/Users/Ciao/Desktop/Programming_Stats Learning/Hackathons/HackRPI_2019/Food.pdf\""
   ]
  },
  {
   "cell_type": "code",
   "execution_count": 19,
   "metadata": {},
   "outputs": [],
   "source": [
    "'''\n",
    "# Function to read the pdf file\n",
    "def pdf_to_df(filepath):\n",
    "\n",
    "    # Create an empty list to store all dfs\n",
    "    frames = []\n",
    "\n",
    "    # Number of pages in the PDF file: P2-P14\n",
    "    page_num_range = range(2,15)\n",
    "    \n",
    "    # Read table data on each page\n",
    "    for pages_num in page_num_range:\n",
    "        pdf_to_df = tabula.read_pdf(filepath, pages=pages_num)\n",
    "    #pdf_to_df = [tabula.read_pdf(filepath, pages_num) for pages_num in page_num_range]\n",
    "        frames.append(pdf_to_df)\n",
    "        \n",
    "    # Concat all dfs\n",
    "    food_data = pd.concat(frames)\n",
    "    \n",
    "    return food_data\n",
    "'''"
   ]
  },
  {
   "cell_type": "code",
   "execution_count": 318,
   "metadata": {},
   "outputs": [],
   "source": [
    "# Clean headers\n",
    "#headers_cleaned = ['Product', 'Product Type', 'Extension Period', 'Vendor', 'Effective Date', 'Remarks']\n",
    "#headers_cleaned2 = ['Product', 'Effective Date', 'Remarks', 'Product Type', 'Extension Period', 'Vendor']\n",
    "#headers_cleaned3 = ['Product', 'Vendor', 'Effective Date', 'Remarks', 'Product Type','Extension Period']\n",
    "headers_cleaned = ['Product', 'Product Type', 'Extension Period']"
   ]
  },
  {
   "cell_type": "code",
   "execution_count": 327,
   "metadata": {},
   "outputs": [],
   "source": [
    "frames = []\n",
    "\n",
    "# Number of pages in the PDF file: P2-P14\n",
    "page_num_range = range(2,15)\n",
    "\n",
    "# Read table data on each page\n",
    "for pages_num in page_num_range:\n",
    "    pdf_to_df = tabula.read_pdf(filepath, pages=pages_num, pandas_option={'header': 1})\n",
    "    frames.append(pdf_to_df)\n",
    "\n",
    "# Concat all dfs\n",
    "#food_data = pd.concat(frames)\n",
    "\n",
    "#pdf_to_df = [tabula.read_pdf(filepath, pages=pages_num, pandas_options={'header': [0]}) for pages_num in page_num_range]\n",
    "#food_data = pd.concat(pdf_to_df)"
   ]
  },
  {
   "cell_type": "code",
   "execution_count": 6,
   "metadata": {},
   "outputs": [],
   "source": [
    "'''\n",
    "# Split col2 into 2 (supposed to be 2)\n",
    "frames[0]['Product Type'], frames[0]['Extension'] = frames[0]['Product Type Extension'].str.split(' ', 1).str\n",
    "frames[0].drop(columns=['Product Type Extension'], inplace=True)\n",
    "frames[0].columns = headers_cleaned\n",
    "'''"
   ]
  },
  {
   "cell_type": "code",
   "execution_count": 7,
   "metadata": {},
   "outputs": [],
   "source": [
    "# frames[0],[1],[4],[7],[11]"
   ]
  },
  {
   "cell_type": "code",
   "execution_count": 328,
   "metadata": {},
   "outputs": [],
   "source": [
    "'''\n",
    "for i in [0,1,4,7,11]:\n",
    "    frames[i]['Product Type'], frames[i]['Extension'] = frames[i]['Product Type Extension'].str.split(' ', 1).str\n",
    "    frames[i].drop(columns=['Product Type Extension'], inplace=True)\n",
    "    frames[i].columns = headers_cleaned\n",
    "    frames[i].drop(frames[i].index[0], inplace=True)\n",
    "'''\n",
    "for i in [0,1,4,7,11]:\n",
    "    frames[i]['Product Type'], frames[i]['Extension'] = frames[i]['Product Type Extension'].str.split(' ', 1).str\n",
    "    frames[i].drop(columns=['Product Type Extension', 'Vendor', 'Remarks','Effective'], inplace=True)\n",
    "    frames[i].columns = headers_cleaned\n",
    "    frames[i].drop(frames[i].index[0], inplace=True)"
   ]
  },
  {
   "cell_type": "code",
   "execution_count": null,
   "metadata": {},
   "outputs": [],
   "source": [
    "#frames[2],[3],[5],[8],[9],[12]"
   ]
  },
  {
   "cell_type": "code",
   "execution_count": 15,
   "metadata": {},
   "outputs": [],
   "source": [
    "'''\n",
    "# For Df3\n",
    "frames[2]['Product Type'], frames[2]['Extension'], frames[2]['Vendor'] = frames[2]['Product Type Extension Vendor'].str.split(' ', 2).str\n",
    "frames[2].drop(columns=['Product Type Extension Vendor','Unnamed: 2'], inplace=True)\n",
    "frames[2].columns = headers_cleaned2\n",
    "'''"
   ]
  },
  {
   "cell_type": "code",
   "execution_count": 329,
   "metadata": {},
   "outputs": [],
   "source": [
    "for i in [2,3,5,9,12]:\n",
    "    frames[i]['Product Type'], frames[i]['Extension'], frames[i]['Vendor'] = frames[i]['Product Type Extension Vendor'].str.split(' ', 2).str\n",
    "    frames[i].drop(columns=['Product Type Extension Vendor','Unnamed: 2','Vendor', 'Remarks','Effective'], inplace=True)\n",
    "    #frames[i].columns = headers_cleaned2\n",
    "    frames[i].columns = headers_cleaned\n",
    "    frames[i].drop(frames[i].index[0], inplace=True)\n",
    "    #frames[i] = frames[i][[headers_cleaned]]\n"
   ]
  },
  {
   "cell_type": "code",
   "execution_count": 31,
   "metadata": {},
   "outputs": [],
   "source": [
    "#frames[6],[10]"
   ]
  },
  {
   "cell_type": "code",
   "execution_count": null,
   "metadata": {},
   "outputs": [],
   "source": [
    "'''\n",
    "# For Df7\n",
    "frames[6]['Product Type'], frames[6]['Extension'] = frames[6]['Unnamed: 1'].str.split(' ', 1).str\n",
    "frames[6].drop(columns=['Unnamed: 1'], inplace=True)\n",
    "frames[6].columns = headers_cleaned3\n",
    "'''"
   ]
  },
  {
   "cell_type": "code",
   "execution_count": null,
   "metadata": {},
   "outputs": [],
   "source": [
    "for i in [6,10]:\n",
    "    frames[i]['Product Type'], frames[i]['Extension'] = frames[i]['Unnamed: 1'].str.split(' ', 1).str\n",
    "    frames[i].drop(columns=['Unnamed: 1','Vendor','Effective', 'Remarks'], inplace=True)\n",
    "    #frames[i].columns = headers_cleaned3\n",
    "    frames[i].columns = headers_cleaned\n",
    "    frames[i].drop(frames[i].index[0], inplace=True)"
   ]
  },
  {
   "cell_type": "code",
   "execution_count": 333,
   "metadata": {},
   "outputs": [],
   "source": [
    "#frames[8]\n",
    "frames[8]['Product Type'], frames[8]['Temp'] = frames[8]['Vendor'].str.split(' ', 1).str\n",
    "frames[8]['Extension'], frames[8]['Vendor'] = frames[8]['Temp'].str.split(' ', 1).str\n",
    "frames[8]['Temp'], frames[8]['Vendor'] = frames[8]['Vendor'].str.split(' ', 1).str\n",
    "frames[8].drop(columns=['Temp','Unnamed: 2','Vendor','Effective','Remarks'], inplace = True)\n",
    "#frames[8].columns = ['Product', 'Vendor','Effective Date', 'Remarks', 'Product Type','Extension Period']\n",
    "frames[8].columns = headers_cleaned\n",
    "frames[8].drop(frames[8].index[0], inplace=True)\n",
    "#frames[8] = frames[8][[headers_cleaned]]"
   ]
  },
  {
   "cell_type": "code",
   "execution_count": 338,
   "metadata": {},
   "outputs": [],
   "source": [
    "# Concat all dfs\n",
    "food_data = pd.concat(frames, ignore_index=True)"
   ]
  },
  {
   "cell_type": "code",
   "execution_count": 342,
   "metadata": {},
   "outputs": [],
   "source": [
    "# Df to json file without index\n",
    "food_data.to_json('/Users/Ciao/Desktop/Programming_Stats Learning/Hackathons/HackRPI_2019/food_expiration.json', orient='records') "
   ]
  },
  {
   "cell_type": "code",
   "execution_count": null,
   "metadata": {},
   "outputs": [],
   "source": []
  }
 ],
 "metadata": {
  "kernelspec": {
   "display_name": "Python [conda env:anaconda3]",
   "language": "python",
   "name": "conda-env-anaconda3-py"
  },
  "language_info": {
   "codemirror_mode": {
    "name": "ipython",
    "version": 3
   },
   "file_extension": ".py",
   "mimetype": "text/x-python",
   "name": "python",
   "nbconvert_exporter": "python",
   "pygments_lexer": "ipython3",
   "version": "3.6.8"
  }
 },
 "nbformat": 4,
 "nbformat_minor": 2
}
